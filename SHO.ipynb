{
 "cells": [
  {
   "cell_type": "code",
   "execution_count": 1,
   "metadata": {
    "colab": {
     "base_uri": "https://localhost:8080/",
     "height": 207
    },
    "colab_type": "code",
    "executionInfo": {
     "elapsed": 15445,
     "status": "ok",
     "timestamp": 1586079383450,
     "user": {
      "displayName": "jin choi",
      "photoUrl": "",
      "userId": "17008403687904523347"
     },
     "user_tz": -540
    },
    "id": "6g4Mi4wJT1YE",
    "outputId": "c2e130ba-b2eb-4855-da12-a8a1e8609470"
   },
   "outputs": [
    {
     "name": "stdout",
     "output_type": "stream",
     "text": [
      "1.5.1\n"
     ]
    }
   ],
   "source": [
    "# You need to update sympy when you are using google colaboratory\n",
    "#!pip install sympy==1.5.1\n",
    "import sys\n",
    "import sympy\n",
    "print(sympy.__version__)"
   ]
  },
  {
   "cell_type": "code",
   "execution_count": 2,
   "metadata": {
    "colab": {},
    "colab_type": "code",
    "id": "rTFhYl8uUAT6"
   },
   "outputs": [],
   "source": [
    "from sympy import *\n",
    "import numpy as np\n",
    "import matplotlib.pyplot as plt\n",
    "x, hbar, w, t = symbols(\"x, hbar, w, t\")"
   ]
  },
  {
   "cell_type": "code",
   "execution_count": 3,
   "metadata": {
    "colab": {},
    "colab_type": "code",
    "id": "4iugRltgUSwk"
   },
   "outputs": [],
   "source": [
    "class SHO:\n",
    "    # Class SHO\n",
    "    # This class recieve a 1-dim'l function as a string(need not be normalized)\n",
    "    # and analyze the function in the SHO basis\n",
    "\n",
    "    # Private methods\n",
    "    def __init__(self, psi):\n",
    "        # primitive store the ground state of SHO\n",
    "        # psi store the wave function to analyze in the energy basis of SHO\n",
    "        # If you just want to analyze with basis, no need input wave function\n",
    "        # Declare the class as\n",
    "        # model = SHO(\"\")\n",
    "\n",
    "        print(\"[SHO] 초기설정 시간 좀 걸려요ㅠ\")\n",
    "        self.psi = psi\n",
    "        if self.psi:\n",
    "            self.psi = self.__Normalize(sympify(self.psi))\n",
    "        self.__primitive = pi**(-1/4) * exp(-x**2/2)\n",
    "        self.__basis = []\n",
    "        for i in range(30):\n",
    "            if i == 0:\n",
    "                self.__basis.append(self.__primitive)\n",
    "            else:\n",
    "                temp = self.Raise(self.__basis[i-1], i-1)\n",
    "                self.__basis.append(temp.simplify())\n",
    "        print(\"[SHO] SHO is prepared\")\n",
    "\n",
    "\n",
    "    def __Normalize(self, expr):\n",
    "        # 1 = A^*A<psi|psi>\n",
    "        # Get A and updaate psi\n",
    "\n",
    "        norm = integrate(expr*expr, (x, -oo, oo))\n",
    "        expr = expr / sqrt(norm)\n",
    "        return expr.simplify()\n",
    "\n",
    "    def __Pos(self, expr):\n",
    "        # X(psi) = x*psi\n",
    "\n",
    "        temp = x * expr\n",
    "        return temp.simplify()\n",
    "\n",
    "    def __Mom(self, expr):\n",
    "        # P(psi) = -id(psi)/dx\n",
    "\n",
    "        temp = -I * diff(expr)\n",
    "        return temp.simplify()\n",
    "\n",
    "    def __Raising(self, basis):\n",
    "        # a^+ = (-ip + x)/sqrt(2)\n",
    "\n",
    "        temp1 = -I * self.__Mom(basis)\n",
    "        temp2 = self.__Pos(basis)\n",
    "        temp = (1/sqrt(2)) * (temp1 + temp2)\n",
    "        return temp.simplify()\n",
    "\n",
    "    def __Lowering(self, basis):\n",
    "        # a = (ip + x)/sqrt(2)\n",
    "\n",
    "        temp1 = I * self.__Mom(basis)\n",
    "        temp2 = self.__Pos(basis)\n",
    "        temp = (1/sqrt(2)) * (temp1 + temp2)\n",
    "        return temp.simplify()\n",
    "\n",
    "    def __Hamiltonian_ladder(self, expr):\n",
    "        # H = hbar*w(a^+a + 1/2)\n",
    "\n",
    "        temp1 = self.__Lowering(basis)\n",
    "        temp1 = self.__Raising(temp1)\n",
    "        temp1 *= hbar * w\n",
    "        temp2 = hbar*w*(1/2)*basis\n",
    "        temp = temp1 + temp2\n",
    "        return temp.simplify()\n",
    "\n",
    "    def __Hamiltonian_xp(self, expr):\n",
    "        # H = (hbar*w /2)*(p^2 + x^2)\n",
    "\n",
    "        temp1 = self.__Mom(self.__Mom(expr))\n",
    "        temp2 = self.__Pos(self.__Pos(expr))\n",
    "        temp = (hbar*w/2)*(temp1 + temp2)\n",
    "        return temp.simplify()\n",
    "\n",
    "    def __InnerProduct(self, expr1, expr2):\n",
    "        # <f_1|f_2>\n",
    "\n",
    "        expr1 = conjugate(expr1)\n",
    "        temp = integrate(expr1*expr2, (x, -oo, oo))\n",
    "        return temp.simplify()\n",
    "\n",
    "    # Public methods\n",
    "    def InnerProduct(self, expr1, expr2):\n",
    "        # <f_1|f_2>\n",
    "\n",
    "        expr1 = conjugate(expr1)\n",
    "        temp = integrate(expr1*expr2, (x, -oo, oo))\n",
    "        return temp.simplify()\n",
    "    \n",
    "    def Raise(self, basis, n):\n",
    "        # psi_n+1 = a^+psi_n / sqrt(n+1)\n",
    "\n",
    "        temp = self.__Raising(basis)\n",
    "        temp /= sqrt(n+1)\n",
    "        return temp.simplify()\n",
    "\n",
    "    def Lower(self, basis, n):\n",
    "        # psi_n-1 = a psi_n / sqrt(n)\n",
    "\n",
    "        temp = self.__Lowering(basis)\n",
    "        temp /= sqrt(n)\n",
    "        return temp.simplify()\n",
    "\n",
    "    def GetBasis(self, n):\n",
    "        # psi_n = (a^+)^n psi_0 / sqrt(n!)\n",
    "\n",
    "        if (n < 30):\n",
    "            return self.__basis[n]\n",
    "        else:\n",
    "            temp = self.GetBasis(n-1)\n",
    "            return temp.simplify()\n",
    "\n",
    "    def GetNumber(self, basis):\n",
    "        # N psi_n = n psi_n\n",
    "        # return n\n",
    "\n",
    "        temp = self.__Lowering(basis)\n",
    "        temp = self.__Raising(temp)\n",
    "        return temp.simplify() / basis\n",
    "\n",
    "    def GetEnergy(self, basis):\n",
    "        # H psi_n = (n+1/2)*hbar*w\n",
    "        # return E_n = (n+1/2)*habr*w\n",
    "\n",
    "        temp = self.__Hamiltonian_xp(basis)\n",
    "        temp /= basis\n",
    "        return temp.simplify()\n",
    "\n",
    "    def CheckOrtho(self, n, m):\n",
    "        # <n|m> = delta_{nm}\n",
    "\n",
    "        psi_n = self.GetBasis(n)\n",
    "        psi_m = self.GetBasis(m)\n",
    "        result = self.__InnerProduct(psi_n, psi_m)\n",
    "        return result.simplify()\n",
    "\n",
    "    def GetCoeff(self, n):\n",
    "        # c_n = <psi_n|psi>\n",
    "\n",
    "        if self.psi:\n",
    "            psi_n = self.GetBasis(n)\n",
    "            expr = self.psi\n",
    "            coeff = self.__InnerProduct(psi_n, expr)\n",
    "            return coeff.simplify()\n",
    "        else:\n",
    "            print(\"Input wave function is not defined\")\n",
    "            sys.exit(1)            \n",
    "\n",
    "    def GetProb(self, n):\n",
    "        # P(psi->psi_n) = |c_n|^2\n",
    "\n",
    "        if self.psi:\n",
    "            expr = self.psi\n",
    "            coeff = self.GetCoeff(n, expr)\n",
    "            prob = conjugate(coeff)*coeff\n",
    "            return prob.simplify()\n",
    "        else:\n",
    "            print(\"Input wave function is not defined\")\n",
    "            sys.exit(1)\n",
    "\n",
    "    def GetExpectEnergy(self):\n",
    "        # E = <H> = <psi|H|psi>\n",
    "\n",
    "        if self.psi:\n",
    "            expr = self.psi\n",
    "            temp = self.__Hamiltonian_xp(expr)\n",
    "            expect = self.__InnerProduct(expr, temp)\n",
    "            return expect.simplify()\n",
    "        else:\n",
    "            print(\"Input wave function is not defined\")\n",
    "            sys.exit(1)\n",
    "\n",
    "    # Plotting tools\n",
    "    def PlotBasis(self, n, xrange, marker, title, label):\n",
    "        # Plot the basis functions for the SHO\n",
    "\n",
    "        psi_n = self.GetBasis(n)\n",
    "        X = np.arange(-xrange, xrange, 0.01)\n",
    "        Y = []\n",
    "        for i in range(X.size):\n",
    "            Y.append(psi_n.subs(x, X[i]))\n",
    "        Y = np.array(Y)\n",
    "        plt.plot(X, Y, marker, label = label)\n",
    "        plt.xlim(-xrange, xrange)\n",
    "        plt.xlabel(\"x\")\n",
    "        plt.ylim(-1, 1)\n",
    "        plt.ylabel(\"psi\")\n",
    "        plt.title(title)\n",
    "        plt.grid(True)\n",
    "        plt.legend(loc = 0)\n",
    "        job_prefix = \"[Job Status] Plotting \"\n",
    "        job_suffix = \" state finished.\"\n",
    "        if n == 0:\n",
    "            print(job_prefix + \"ground\" + job_suffix)\n",
    "        elif n == 1:\n",
    "            print(job_prefix + \"1st excited\" + job_suffix)\n",
    "        elif n == 2:\n",
    "            print(job_prefix + \"2nd excited\" + job_suffix)\n",
    "        elif n==3:\n",
    "            print(job_prefix + \"3rd excited\" + job_suffix)\n",
    "        else:\n",
    "            print(job_prefix + str(n) + \"th excited\" + job_suffix)"
   ]
  },
  {
   "cell_type": "code",
   "execution_count": 4,
   "metadata": {
    "colab": {},
    "colab_type": "code",
    "id": "xTRfAXwQ4qu6"
   },
   "outputs": [],
   "source": [
    "class TimeEvolution(SHO):\n",
    "    # class TimeEvolution\n",
    "    # Inherited from class SHO\n",
    "    # Evaluate time evolution operator and find the full wave function psi(x, t)\n",
    "\n",
    "    def __init__(self, psi):\n",
    "        # Note that psi in this class is psi(x, t=0), i.e. initial time space wave ft.\n",
    "        # as a string\n",
    "        # Must need the initial wave function\n",
    "\n",
    "        print(\"[TimeEvolution] class TimeEvolution\")\n",
    "        print(\"[TimeEvolution] Inherited from class SHO\")\n",
    "        print(\"[TimeEvolution] Evaluate time evolution operator and find the full wave function psi(x, t)\")\n",
    "        self.psi = psi\n",
    "        if not self.psi:\n",
    "            print(\"Must need the initial wave function as input\")\n",
    "            sys.exit(1)\n",
    "        super().__init__(self.psi)\n",
    "        print(\"[TimeEvolution] TimeEvolution is prepared\")\n",
    "\n",
    "    def __Unitary(self, n):\n",
    "        # Get time evolution operator\n",
    "        # U_n(t) = exp(-i*E_n*t/hbar)\n",
    "\n",
    "        psi_n = super().GetBasis(n)\n",
    "        E_n = super().GetEnergy(psi_n)\n",
    "        temp = exp(-I * E_n * t / hbar)\n",
    "        return temp.simplify()\n",
    "    \n",
    "    def GetOscillator(self, n):\n",
    "        # Get full time dependent oscialltor\n",
    "        # psi_n(x, t) = c_n * psi_n(x) * U_n(t)\n",
    "\n",
    "        uni = self.__Unitary(n)\n",
    "        coeff = super().GetCoeff(n)\n",
    "        basis = super().GetBasis(n)\n",
    "        osc = coeff * basis * uni\n",
    "        return osc.simplify()\n",
    "    \n",
    "    def __Unitary_Re(self, n):\n",
    "        # Real part of the unitary operator\n",
    "\n",
    "        psi_n = super().GetBasis(n)\n",
    "        E_n = super().GetEnergy(psi_n)\n",
    "        temp = cos(-E_n * t / hbar)\n",
    "        return temp.simplify()\n",
    "\n",
    "    def GetOscillator_Re(self, n):\n",
    "        # Real part of the full oscillator\n",
    "\n",
    "        uni = self.__Unitary_Re(n)\n",
    "        coeff = super().GetCoeff(n)\n",
    "        basis = super().GetBasis(n)\n",
    "        osc = coeff * basis * uni\n",
    "        return osc.simplify()\n",
    "\n",
    "    def FullWaveFtn(self, n):\n",
    "        # Calculate the time evolution of indivisual osciallators\n",
    "        # Up to nth excited state\n",
    "\n",
    "        full = sympify(\"0\")\n",
    "        for i in range(n):\n",
    "            full += self.GetOscillator(i)\n",
    "            full.simplify()\n",
    "        \n",
    "        return full\n",
    "\n",
    "    def PlotOscillators(self, n, trange, marker):\n",
    "        # Plot the each decomposed wave functions\n",
    "        # up to n_th state\n",
    "\n",
    "        plt.clf()\n",
    "        # x axis is parametrized as w*t/2*pi\n",
    "        for i in range(n):\n",
    "            osc = self.GetOscillator_Re(i)\n",
    "            basis = super().GetBasis(i)\n",
    "            osc /= basis\n",
    "            osc = osc.simplify()\n",
    "            osc = osc.subs(w, 2*pi)\n",
    "            osc = osc.subs(pi, 3.141592)\n",
    "            X = np.arange(0, trange, 0.01)\n",
    "            Y = []\n",
    "            for j in range(X.size):\n",
    "                Y.append(osc.subs(t, X[j]))\n",
    "            Y = np.array(Y)\n",
    "\n",
    "            plt.figure(figsize=(10, 6))\n",
    "            plt.subplot(n, 1, i+1)\n",
    "            plt.plot(X, Y, marker, label = \"Ocillator \" + str(i))\n",
    "            plt.xlim(0, trange)\n",
    "            plt.xlabel(\"w*t/2*pi\")\n",
    "            plt.ylim(-1, 1)\n",
    "            plt.ylabel(\"c_\" + str(i))\n",
    "            plt.grid(True)\n",
    "            plt.legend(loc = 1)\n",
    "            print(\"[Job Status] Plotting oscillator \" + str(i) + \" is finished\")\n",
    "        plt.show()"
   ]
  },
  {
   "cell_type": "code",
   "execution_count": 5,
   "metadata": {
    "colab": {
     "base_uri": "https://localhost:8080/",
     "height": 136
    },
    "colab_type": "code",
    "executionInfo": {
     "elapsed": 29930,
     "status": "ok",
     "timestamp": 1586080135144,
     "user": {
      "displayName": "jin choi",
      "photoUrl": "",
      "userId": "17008403687904523347"
     },
     "user_tz": -540
    },
    "id": "hKr_4pXdaAMp",
    "outputId": "d4fc72aa-e82a-4463-f2f8-46b11b55904b"
   },
   "outputs": [
    {
     "name": "stdout",
     "output_type": "stream",
     "text": [
      "[TimeEvolution] class TimeEvolution\n",
      "[TimeEvolution] Inherited from class SHO\n",
      "[TimeEvolution] Evaluate time evolution operator and find the full wave function psi(x, t)\n",
      "[SHO] 초기설정 시간 좀 걸려요ㅠ\n",
      "[SHO] SHO is prepared\n",
      "[TimeEvolution] TimeEvolution is prepared\n"
     ]
    },
    {
     "data": {
      "text/latex": [
       "$\\displaystyle \\frac{\\left(4 x^{2} - 4 x + 1\\right) e^{- \\frac{x^{2}}{2}}}{5 \\sqrt[4]{\\pi}}$"
      ],
      "text/plain": [
       "(4*x**2 - 4*x + 1)*exp(-x**2/2)/(5*pi**(1/4))"
      ]
     },
     "execution_count": 5,
     "metadata": {},
     "output_type": "execute_result"
    }
   ],
   "source": [
    "# Example 1\n",
    "# problem 2.41 (2nd edition)\n",
    "# No need to type overall const in input string\n",
    "# Automatically normalize the input state\n",
    "model = TimeEvolution(\"((1 - 2*x)**2) * exp(-x**2/2)\")\n",
    "model.psi"
   ]
  },
  {
   "cell_type": "code",
   "execution_count": null,
   "metadata": {
    "colab_type": "text",
    "id": "3eA1kk8sWHeS"
   },
   "outputs": [],
   "source": []
  },
  {
   "cell_type": "code",
   "execution_count": 6,
   "metadata": {
    "colab": {
     "base_uri": "https://localhost:8080/",
     "height": 34
    },
    "colab_type": "code",
    "executionInfo": {
     "elapsed": 1372,
     "status": "ok",
     "timestamp": 1586079974292,
     "user": {
      "displayName": "jin choi",
      "photoUrl": "",
      "userId": "17008403687904523347"
     },
     "user_tz": -540
    },
    "id": "l7pRTYKxzT5m",
    "outputId": "e7276fa3-ec42-4b91-9670-740c78eacb07"
   },
   "outputs": [
    {
     "name": "stdout",
     "output_type": "stream",
     "text": [
      "1\n"
     ]
    }
   ],
   "source": [
    "# input wave ftn is normalized\n",
    "a = model.psi\n",
    "norm = model.InnerProduct(a, a)\n",
    "print(norm)"
   ]
  },
  {
   "cell_type": "code",
   "execution_count": 7,
   "metadata": {
    "colab": {
     "base_uri": "https://localhost:8080/",
     "height": 34
    },
    "colab_type": "code",
    "executionInfo": {
     "elapsed": 2864,
     "status": "ok",
     "timestamp": 1586079990209,
     "user": {
      "displayName": "jin choi",
      "photoUrl": "",
      "userId": "17008403687904523347"
     },
     "user_tz": -540
    },
    "id": "V6MA4MdEThez",
    "outputId": "e2fc013e-c581-46ab-a419-01a1c8dac6c7"
   },
   "outputs": [
    {
     "data": {
      "text/latex": [
       "$\\displaystyle - \\frac{4 x e^{- \\frac{3 i t w}{2} - \\frac{x^{2}}{2}}}{5 \\pi^{0.25}} + \\frac{2 \\left(2 x^{2} - 1\\right) e^{- \\frac{5 i t w}{2} - \\frac{x^{2}}{2}}}{5 \\pi^{0.25}} + \\frac{3 e^{- \\frac{i t w}{2} - \\frac{x^{2}}{2}}}{5 \\pi^{0.25}}$"
      ],
      "text/plain": [
       "-4*pi**(-0.25)*x*exp(-3*I*t*w/2 - x**2/2)/5 + 2*pi**(-0.25)*(2*x**2 - 1)*exp(-5*I*t*w/2 - x**2/2)/5 + 3*pi**(-0.25)*exp(-I*t*w/2 - x**2/2)/5"
      ]
     },
     "execution_count": 7,
     "metadata": {},
     "output_type": "execute_result"
    }
   ],
   "source": [
    "# Get psi(x, t) = Sigma_{i = 0 ~ n-1}  c_i * exp(-i*E_i*t/hbar) * psi_n \n",
    "model.FullWaveFtn(3)"
   ]
  },
  {
   "cell_type": "code",
   "execution_count": null,
   "metadata": {
    "colab_type": "text",
    "id": "-fJwsFnNTmXe"
   },
   "outputs": [],
   "source": []
  },
  {
   "cell_type": "code",
   "execution_count": 8,
   "metadata": {
    "colab": {
     "base_uri": "https://localhost:8080/",
     "height": 34
    },
    "colab_type": "code",
    "executionInfo": {
     "elapsed": 1259,
     "status": "ok",
     "timestamp": 1586080025560,
     "user": {
      "displayName": "jin choi",
      "photoUrl": "",
      "userId": "17008403687904523347"
     },
     "user_tz": -540
    },
    "id": "g983gLZfTVr0",
    "outputId": "26e5105c-33c0-4bcb-e9fb-f766a33c59de"
   },
   "outputs": [
    {
     "data": {
      "text/latex": [
       "$\\displaystyle \\frac{73 \\hbar w}{50}$"
      ],
      "text/plain": [
       "73*hbar*w/50"
      ]
     },
     "execution_count": 8,
     "metadata": {},
     "output_type": "execute_result"
    }
   ],
   "source": [
    "# Get Energy expectation value\n",
    "model.GetExpectEnergy()"
   ]
  },
  {
   "cell_type": "code",
   "execution_count": null,
   "metadata": {
    "colab_type": "text",
    "id": "dgwex0eTTfzR"
   },
   "outputs": [],
   "source": []
  },
  {
   "cell_type": "code",
   "execution_count": 9,
   "metadata": {
    "colab": {
     "base_uri": "https://localhost:8080/",
     "height": 380
    },
    "colab_type": "code",
    "executionInfo": {
     "elapsed": 1745,
     "status": "ok",
     "timestamp": 1586080139292,
     "user": {
      "displayName": "jin choi",
      "photoUrl": "",
      "userId": "17008403687904523347"
     },
     "user_tz": -540
    },
    "id": "lNkOkQhnqebC",
    "outputId": "32f837bf-6b67-4db2-9709-d6952eb1521a"
   },
   "outputs": [
    {
     "data": {
      "image/png": "[encoded data removed]",
      "text/plain": [
       "<Figure size 432x288 with 1 Axes>"
      ]
     },
     "metadata": {
      "needs_background": "light"
     },
     "output_type": "display_data"
    },
    {
     "name": "stdout",
     "output_type": "stream",
     "text": [
      "c_0 = 3/5\n",
      "c_1 = -2*sqrt(2)/5\n",
      "c_2 = 2*sqrt(2)/5\n",
      "c_3 = 0\n",
      "c_4 = 0\n"
     ]
    }
   ],
   "source": [
    "# Plot each coefficients\n",
    "\n",
    "lst_cf = []\n",
    "for i in range(5):\n",
    "    lst_cf.append(model.GetCoeff(i))\n",
    "\n",
    "X = np.arange(len(lst_cf))\n",
    "Y = np.array(lst_cf)\n",
    "plt.bar(X, Y, width=0.6, label=\"Coefficients\")\n",
    "plt.xlabel(\"eigenbasis\")\n",
    "plt.ylabel(\"coeffi.\")\n",
    "plt.title(\"Coefficients\")\n",
    "plt.legend(loc=0)\n",
    "plt.grid(True)\n",
    "plt.show()\n",
    "\n",
    "for i in range(len(lst_cf)):\n",
    "    print(\"c_\" + str(i) + \" = \" + str(lst_cf[i]))"
   ]
  },
  {
   "cell_type": "code",
   "execution_count": 10,
   "metadata": {
    "colab": {
     "base_uri": "https://localhost:8080/",
     "height": 644
    },
    "colab_type": "code",
    "executionInfo": {
     "elapsed": 9128,
     "status": "ok",
     "timestamp": 1586080150521,
     "user": {
      "displayName": "jin choi",
      "photoUrl": "",
      "userId": "17008403687904523347"
     },
     "user_tz": -540
    },
    "id": "o8XpGpp99zNo",
    "outputId": "dc077e18-e497-4e60-9724-1b06ce81dbc3"
   },
   "outputs": [
    {
     "name": "stdout",
     "output_type": "stream",
     "text": [
      "[Job Status] Plotting oscillator 0 is finished\n",
      "[Job Status] Plotting oscillator 1 is finished\n",
      "[Job Status] Plotting oscillator 2 is finished\n",
      "[Job Status] Plotting oscillator 3 is finished\n",
      "[Job Status] Plotting oscillator 4 is finished\n"
     ]
    },
    {
     "data": {
      "text/plain": [
       "<Figure size 432x288 with 0 Axes>"
      ]
     },
     "metadata": {},
     "output_type": "display_data"
    },
    {
     "data": {
      "image/png": "[encoded data removed]",
      "text/plain": [
       "<Figure size 720x432 with 1 Axes>"
      ]
     },
     "metadata": {
      "needs_background": "light"
     },
     "output_type": "display_data"
    },
    {
     "data": {
      "image/png": "[encoded data removed]",
      "text/plain": [
       "<Figure size 720x432 with 1 Axes>"
      ]
     },
     "metadata": {
      "needs_background": "light"
     },
     "output_type": "display_data"
    },
    {
     "data": {
      "image/png": "[encoded data removed]",
      "text/plain": [
       "<Figure size 720x432 with 1 Axes>"
      ]
     },
     "metadata": {
      "needs_background": "light"
     },
     "output_type": "display_data"
    },
    {
     "data": {
      "image/png": "[encoded data removed]",
      "text/plain": [
       "<Figure size 720x432 with 1 Axes>"
      ]
     },
     "metadata": {
      "needs_background": "light"
     },
     "output_type": "display_data"
    },
    {
     "data": {
      "image/png": "[encoded data removed]",
      "text/plain": [
       "<Figure size 720x432 with 1 Axes>"
      ]
     },
     "metadata": {
      "needs_background": "light"
     },
     "output_type": "display_data"
    }
   ],
   "source": [
    "# Plot the time dependence of each oscillators\n",
    "model.PlotOscillators(5, 10, 'r-')"
   ]
  },
  {
   "cell_type": "code",
   "execution_count": 11,
   "metadata": {
    "colab": {
     "base_uri": "https://localhost:8080/",
     "height": 706
    },
    "colab_type": "code",
    "executionInfo": {
     "elapsed": 23744,
     "status": "ok",
     "timestamp": 1586080217589,
     "user": {
      "displayName": "jin choi",
      "photoUrl": "",
      "userId": "17008403687904523347"
     },
     "user_tz": -540
    },
    "id": "Vay0UTUkqVqx",
    "outputId": "eac8cb0c-293b-4ffe-b46f-353e998a261f"
   },
   "outputs": [
    {
     "name": "stdout",
     "output_type": "stream",
     "text": [
      "[Job Status] Plotting ground state finished.\n",
      "[Job Status] Plotting 5th excited state finished.\n",
      "[Job Status] Plotting 10th excited state finished.\n",
      "[Job Status] Plotting 15th excited state finished.\n"
     ]
    },
    {
     "data": {
      "text/plain": [
       "<Figure size 432x288 with 0 Axes>"
      ]
     },
     "metadata": {},
     "output_type": "display_data"
    },
    {
     "data": {
      "image/png": "[encoded data removed]",
      "text/plain": [
       "<Figure size 720x720 with 4 Axes>"
      ]
     },
     "metadata": {
      "needs_background": "light"
     },
     "output_type": "display_data"
    }
   ],
   "source": [
    "# Example 2\n",
    "# Plotting basis functions\n",
    "plt.clf()\n",
    "\n",
    "plt.figure(figsize=(10, 10))\n",
    "plt.subplot(2, 2, 1)\n",
    "model.PlotBasis(0, 10, \"r-\", \"ground state\", \"ground state\")\n",
    "\n",
    "plt.subplot(2, 2, 2)\n",
    "model.PlotBasis(5, 10, \"b-\", \"5th excited state\", \"5th excited state\")\n",
    "\n",
    "plt.subplot(2, 2, 3)\n",
    "model.PlotBasis(10, 10, \"g-\", \"10th excited state\", \"10th excited state\")\n",
    "\n",
    "plt.subplot(2, 2, 4)\n",
    "model.PlotBasis(15, 10, \"c-\", \"15th excited state\", \"15th excited state\")\n",
    "\n",
    "# plt.savefig(\"$PATH/$NAME.png\")\n",
    "plt.show()"
   ]
  },
  {
   "cell_type": "code",
   "execution_count": 12,
   "metadata": {
    "colab": {
     "base_uri": "https://localhost:8080/",
     "height": 51
    },
    "colab_type": "code",
    "executionInfo": {
     "elapsed": 23088,
     "status": "ok",
     "timestamp": 1586080289167,
     "user": {
      "displayName": "jin choi",
      "photoUrl": "",
      "userId": "17008403687904523347"
     },
     "user_tz": -540
    },
    "id": "c3BlLQ71fbqZ",
    "outputId": "3ec940ea-5918-42e2-a56b-a4566794eff7"
   },
   "outputs": [
    {
     "name": "stdout",
     "output_type": "stream",
     "text": [
      "[SHO] 초기설정 시간 좀 걸려요ㅠ\n",
      "[SHO] SHO is prepared\n"
     ]
    }
   ],
   "source": [
    "# Example 3\n",
    "# Get the probability\n",
    "# that a particle can be found\n",
    "# in the nonclassical region\n",
    "\n",
    "classic = SHO(\"\")\n",
    "\n",
    "def GetClassicalProb(n):\n",
    "    # Get the probability of the particle\n",
    "    # to be found in the classical region\n",
    "    # i.e. E_n > V(x) \n",
    "    # (n+1/2)*hbar*w > hbar*w*x^2/2\n",
    "    psi_n = classic.GetBasis(n)\n",
    "    b = sqrt(2*n + 1)\n",
    "    print(\"[Job Info] \" + str(n) + \": classical range = (\" \n",
    "          + str(-b) + \", \" + str(b) + \")\")\n",
    "    print(\"Integrating...\")\n",
    "    prob = integrate(conjugate(psi_n)*psi_n, (x, -b, b))\n",
    "    prob = prob.subs(pi, 3.14)\n",
    "    prob = prob.subs(E, 2.71)\n",
    "    prob = float(prob.evalf())\n",
    "    return prob\n",
    "    \n",
    "def GetNonClassicalProb(n):\n",
    "    # Get the probability of the particle\n",
    "    # to be found in the nonclassical region\n",
    "    # i.e. E_n < V(x) \n",
    "    # (n+1/2)*hbar*w < hbar*w*x^2/2\n",
    "    return 1 - GetClassicalProb(n)"
   ]
  },
  {
   "cell_type": "code",
   "execution_count": 13,
   "metadata": {
    "colab": {
     "base_uri": "https://localhost:8080/",
     "height": 550
    },
    "colab_type": "code",
    "executionInfo": {
     "elapsed": 62752,
     "status": "ok",
     "timestamp": 1586080354653,
     "user": {
      "displayName": "jin choi",
      "photoUrl": "",
      "userId": "17008403687904523347"
     },
     "user_tz": -540
    },
    "id": "XcWtfoUV5BxZ",
    "outputId": "781cc145-bc16-4b22-eed7-9502751c44c4"
   },
   "outputs": [
    {
     "name": "stdout",
     "output_type": "stream",
     "text": [
      "[Job Info] 0: classical range = (-1, 1)\n",
      "Integrating...\n",
      "[Job Status] ground state finished\n",
      "[Job Info] 1: classical range = (-sqrt(3), sqrt(3))\n",
      "Integrating...\n",
      "[Job Status] 1st excited state finished\n",
      "[Job Info] 2: classical range = (-sqrt(5), sqrt(5))\n",
      "Integrating...\n",
      "[Job Status] 2nd excited state finished\n",
      "[Job Info] 3: classical range = (-sqrt(7), sqrt(7))\n",
      "Integrating...\n",
      "[Job Status] 3rd excited state finished\n",
      "[Job Status] Preparation finished\n",
      "[Job Status] Plotting...\n",
      "[Job Status] Plotting finished\n"
     ]
    },
    {
     "data": {
      "image/png": "[encoded data removed]",
      "text/plain": [
       "<Figure size 432x288 with 1 Axes>"
      ]
     },
     "metadata": {
      "needs_background": "light"
     },
     "output_type": "display_data"
    }
   ],
   "source": [
    " lst = []\n",
    "for i in range(4):\n",
    "    p = GetNonClassicalProb(i)\n",
    "    lst.append(p)\n",
    "    job_prefix = \"[Job Status] \"\n",
    "    job_suffix = \" state finished\"\n",
    "    if i == 0:\n",
    "        print(job_prefix + \"ground\" + job_suffix)\n",
    "    elif i == 1:\n",
    "        print(job_prefix + \"1st excited\" + job_suffix)\n",
    "    elif i == 2:\n",
    "        print(job_prefix + \"2nd excited\" + job_suffix)\n",
    "    elif i == 3:\n",
    "        print(job_prefix + \"3rd excited\" + job_suffix)\n",
    "    else:\n",
    "        print(job_prefix + str(i) + \"th excited\" + job_suffix)\n",
    "print(\"[Job Status] Preparation finished\")\n",
    "\n",
    "print(\"[Job Status] Plotting...\")\n",
    "Y = np.array(lst)\n",
    "X = np.arange(Y.size)\n",
    "plt.clf()\n",
    "#plt.figure(figsize(,))\n",
    "plt.title(\"Probability that a particle can be found in the nonclassical region\")\n",
    "plt.xlabel(\"eigenbasis\")\n",
    "plt.ylabel(\"probability\")\n",
    "plt.bar(X, Y, width=0.6, label='Probability')\n",
    "plt.legend(loc=0)\n",
    "# plt.savefig(\"$PATH/$NAME.png\")\n",
    "print(\"[Job Status] Plotting finished\")\n",
    "plt.show()"
   ]
  },
  {
   "cell_type": "code",
   "execution_count": null,
   "metadata": {
    "colab": {},
    "colab_type": "code",
    "id": "7eAxNIqx56Zl"
   },
   "outputs": [],
   "source": []
  }
 ],
 "metadata": {
  "colab": {
   "authorship_tag": "ABX9TyNxtaKvt2w0nDNrI2D7xv3o",
   "collapsed_sections": [],
   "name": "ClassSHO.ipynb",
   "provenance": []
  },
  "kernelspec": {
   "display_name": "Python 3",
   "language": "python",
   "name": "python3"
  },
  "language_info": {
   "codemirror_mode": {
    "name": "ipython",
    "version": 3
   },
   "file_extension": ".py",
   "mimetype": "text/x-python",
   "name": "python",
   "nbconvert_exporter": "python",
   "pygments_lexer": "ipython3",
   "version": "3.7.6"
  }
 },
 "nbformat": 4,
 "nbformat_minor": 1
}
